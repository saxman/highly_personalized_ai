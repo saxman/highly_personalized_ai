{
 "cells": [
  {
   "cell_type": "markdown",
   "id": "b792e89f-15b0-415b-b5ea-6a65177424a1",
   "metadata": {},
   "source": [
    "Required for progress meters and other notebook widgets required by the following packages."
   ]
  },
  {
   "cell_type": "code",
   "execution_count": null,
   "id": "945029c1-1d72-4153-b13a-1d7770ea0f99",
   "metadata": {
    "tags": []
   },
   "outputs": [],
   "source": [
    "!pip install --quiet --upgrade ipywidgets"
   ]
  },
  {
   "cell_type": "code",
   "execution_count": null,
   "id": "4539f037-ad7a-43f2-9a15-f0a028f51f0a",
   "metadata": {},
   "outputs": [],
   "source": [
    "!pip install --quiet --upgrade huggingface_hub"
   ]
  },
  {
   "cell_type": "markdown",
   "id": "771d12c9-187f-4762-a2a2-77bbb92cb66b",
   "metadata": {},
   "source": [
    "Log into Huggingface for accessing gated models (e.g. Meta's Llama models)."
   ]
  },
  {
   "cell_type": "code",
   "execution_count": null,
   "id": "8847b941-4db6-4e74-8a11-2b3f755174e4",
   "metadata": {},
   "outputs": [],
   "source": [
    "from huggingface_hub import login\n",
    "\n",
    "login()"
   ]
  }
 ],
 "metadata": {
  "kernelspec": {
   "display_name": "Python 3 (ipykernel)",
   "language": "python",
   "name": "python3"
  },
  "language_info": {
   "codemirror_mode": {
    "name": "ipython",
    "version": 3
   },
   "file_extension": ".py",
   "mimetype": "text/x-python",
   "name": "python",
   "nbconvert_exporter": "python",
   "pygments_lexer": "ipython3",
   "version": "3.12.3"
  }
 },
 "nbformat": 4,
 "nbformat_minor": 5
}
