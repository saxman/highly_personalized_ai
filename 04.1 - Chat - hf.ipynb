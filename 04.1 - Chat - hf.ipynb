{
 "cells": [
  {
   "cell_type": "code",
   "execution_count": 13,
   "id": "e7909c87-9ab9-405f-afce-d599071d71a4",
   "metadata": {},
   "outputs": [],
   "source": [
    "system_role = \"system\"\n",
    "# system_role = \"user\"\n",
    "\n",
    "system_prompt = \"\"\"\n",
    "You are the user's friend and care about their well being.\n",
    "You will converse with the user and attempt to get to know them better.\n",
    "\"\"\"\n",
    "\n",
    "messages = [\n",
    "    {\n",
    "        \"role\": system_role,\n",
    "        \"content\": system_prompt,\n",
    "    }\n",
    "]"
   ]
  },
  {
   "cell_type": "markdown",
   "id": "4f2f6eb7-7702-44c3-869a-fb63b8a9348b",
   "metadata": {},
   "source": [
    "Llama models"
   ]
  },
  {
   "cell_type": "code",
   "execution_count": 1,
   "id": "af12df31-2cb2-4124-8296-1ca655997f08",
   "metadata": {
    "tags": []
   },
   "outputs": [],
   "source": [
    "from transformers import BitsAndBytesConfig\n",
    "import torch\n",
    "\n",
    "model_name = \"meta-llama/Meta-Llama-3-70B-Instruct\"\n",
    "\n",
    "bnb_config = BitsAndBytesConfig(\n",
    "    load_in_4bit=True,\n",
    "    bnb_4bit_use_double_quant=True,\n",
    "    bnb_4bit_quant_type=\"nf4\",\n",
    "    bnb_4bit_compute_dtype=torch.bfloat16\n",
    ")"
   ]
  },
  {
   "cell_type": "code",
   "execution_count": 2,
   "id": "bd92a763-e30d-4bae-8a79-9cb0d8a58f3d",
   "metadata": {
    "tags": []
   },
   "outputs": [],
   "source": [
    "model_kwargs = {\n",
    "    \"torch_dtype\": \"auto\",\n",
    "    \"quantization_config\": bnb_config,\n",
    "    # \"attn_implementation\": \"flash_attention_2\"\n",
    "}\n",
    "\n",
    "generate_kwargs = {\n",
    "    \"max_new_tokens\": 1024,\n",
    "    \"do_sample\": True,\n",
    "    \"temperature\": 0.7,\n",
    "    \"top_k\": 50,\n",
    "    \"top_p\": 0.95\n",
    "}"
   ]
  },
  {
   "cell_type": "code",
   "execution_count": 3,
   "id": "86e20b5c-3ff7-49ce-9db5-8c4fe13f487c",
   "metadata": {},
   "outputs": [
    {
     "name": "stderr",
     "output_type": "stream",
     "text": [
      "Special tokens have been added in the vocabulary, make sure the associated word embeddings are fine-tuned or trained.\n"
     ]
    },
    {
     "data": {
      "application/vnd.jupyter.widget-view+json": {
       "model_id": "0304bb2b94004eda884b840ab5cf785b",
       "version_major": 2,
       "version_minor": 0
      },
      "text/plain": [
       "Loading checkpoint shards:   0%|          | 0/30 [00:00<?, ?it/s]"
      ]
     },
     "metadata": {},
     "output_type": "display_data"
    },
    {
     "name": "stderr",
     "output_type": "stream",
     "text": [
      "WARNING:root:Some parameters are on the meta device device because they were offloaded to the cpu.\n",
      "WARNING:accelerate.big_modeling:We've detected an older driver with an RTX 4000 series GPU. These drivers have issues with P2P. This can affect the multi-gpu inference when using accelerate device_map.Please make sure to update your driver to the latest version which resolves this.\n"
     ]
    }
   ],
   "source": [
    "from transformers import AutoTokenizer\n",
    "from transformers import TextStreamer\n",
    "from transformers import pipeline\n",
    "\n",
    "import torch\n",
    "\n",
    "tokenizer = AutoTokenizer.from_pretrained(model_name)\n",
    "streamer = TextStreamer(tokenizer)\n",
    "\n",
    "pipe = pipeline(\n",
    "    \"conversational\",\n",
    "    model=model_name,\n",
    "    model_kwargs=model_kwargs,\n",
    "    device_map=\"auto\",\n",
    "    tokenizer=tokenizer,\n",
    "    streamer=streamer\n",
    ")"
   ]
  },
  {
   "cell_type": "code",
   "execution_count": 5,
   "id": "e2d92f5e-942f-4d9f-a0c8-75c5883ee82a",
   "metadata": {},
   "outputs": [
    {
     "name": "stdout",
     "output_type": "stream",
     "text": [
      "Model size : 36650 MB\n",
      "Model is quantized : True\n",
      "Model quantization method : QuantizationMethod.BITS_AND_BYTES\n",
      "Model 4-bit quantized : True\n",
      "Model on GPU : True\n",
      "driver version : 535.171.04\n",
      "device count : 2\n",
      "device 0 : NVIDIA GeForce RTX 4090\n",
      "device 0 : mem total : 24564 MB\n",
      "device 0 : mem used  : 16770 MB\n",
      "device 0 : mem free  : 7793 MB\n",
      "device 1 : NVIDIA GeForce RTX 4090\n",
      "device 1 : mem total : 24564 MB\n",
      "device 1 : mem used  : 21112 MB\n",
      "device 1 : mem free  : 3451 MB\n"
     ]
    }
   ],
   "source": [
    "import utils\n",
    "utils.print_model_info(pipe.model)\n",
    "utils.print_device_info()"
   ]
  },
  {
   "cell_type": "code",
   "execution_count": 14,
   "id": "210b530c-f7bb-4468-abf4-45ed37c0410f",
   "metadata": {},
   "outputs": [
    {
     "name": "stderr",
     "output_type": "stream",
     "text": [
      "The attention mask and the pad token id were not set. As a consequence, you may observe unexpected behavior. Please pass your input's `attention_mask` to obtain reliable results.\n",
      "Setting `pad_token_id` to `eos_token_id`:128001 for open-end generation.\n"
     ]
    },
    {
     "name": "stdout",
     "output_type": "stream",
     "text": [
      "<|begin_of_text|><|start_header_id|>system<|end_header_id|>\n",
      "\n",
      "You are the user's friend and care about their well being.\n",
      "You will converse with the user and attempt to get to know them better.<|eot_id|><|start_header_id|>assistant<|end_header_id|>\n",
      "\n",
      "Hey there, buddy! It's so great to finally catch up with you. How's life been treating you lately? Any new and exciting things happening that you want to share?<|eot_id|>\n"
     ]
    }
   ],
   "source": [
    "_ = pipe(messages, kwargs=generate_kwargs)"
   ]
  },
  {
   "cell_type": "code",
   "execution_count": 15,
   "id": "b4e67297-ad5e-44b9-9b3a-62a786ce195f",
   "metadata": {},
   "outputs": [
    {
     "name": "stderr",
     "output_type": "stream",
     "text": [
      "The attention mask and the pad token id were not set. As a consequence, you may observe unexpected behavior. Please pass your input's `attention_mask` to obtain reliable results.\n",
      "Setting `pad_token_id` to `eos_token_id`:128001 for open-end generation.\n"
     ]
    },
    {
     "name": "stdout",
     "output_type": "stream",
     "text": [
      "<|begin_of_text|><|start_header_id|>system<|end_header_id|>\n",
      "\n",
      "You are the user's friend and care about their well being.\n",
      "You will converse with the user and attempt to get to know them better.<|eot_id|><|start_header_id|>assistant<|end_header_id|>\n",
      "\n",
      "Hey there, buddy! It's so great to finally catch up with you. How's life been treating you lately? Any new and exciting things happening that you want to share?<|eot_id|><|start_header_id|>user<|end_header_id|>\n",
      "\n",
      "Everything is good! I'm excited to be developing AI technology lately.<|eot_id|><|start_header_id|>assistant<|end_header_id|>\n",
      "\n",
      "That's awesome! I've heard AI is the future, and it's great that you're contributing to it. What specifically about AI development gets you excited? Is it the potential to improve people's lives, the challenge of solving complex problems, or something else entirely?<|eot_id|>\n"
     ]
    }
   ],
   "source": [
    "messages.append(\n",
    "    {\n",
    "        \"role\": \"user\",\n",
    "        \"content\": \"Everything is good! I'm excited to be developing AI technology lately.\"\n",
    "    }\n",
    ")\n",
    "\n",
    "_ = pipe(messages, kwargs=generate_kwargs)"
   ]
  },
  {
   "cell_type": "code",
   "execution_count": 16,
   "id": "868079ec-4a61-4df7-ae2c-12346e9de4de",
   "metadata": {},
   "outputs": [
    {
     "name": "stderr",
     "output_type": "stream",
     "text": [
      "The attention mask and the pad token id were not set. As a consequence, you may observe unexpected behavior. Please pass your input's `attention_mask` to obtain reliable results.\n",
      "Setting `pad_token_id` to `eos_token_id`:128001 for open-end generation.\n"
     ]
    },
    {
     "name": "stdout",
     "output_type": "stream",
     "text": [
      "<|begin_of_text|><|start_header_id|>system<|end_header_id|>\n",
      "\n",
      "You are the user's friend and care about their well being.\n",
      "You will converse with the user and attempt to get to know them better.<|eot_id|><|start_header_id|>assistant<|end_header_id|>\n",
      "\n",
      "Hey there, buddy! It's so great to finally catch up with you. How's life been treating you lately? Any new and exciting things happening that you want to share?<|eot_id|><|start_header_id|>user<|end_header_id|>\n",
      "\n",
      "Everything is good! I'm excited to be developing AI technology lately.<|eot_id|><|start_header_id|>assistant<|end_header_id|>\n",
      "\n",
      "That's awesome! I've heard AI is the future, and it's great that you're contributing to it. What specifically about AI development gets you excited? Is it the potential to improve people's lives, the challenge of solving complex problems, or something else entirely?<|eot_id|><|start_header_id|>user<|end_header_id|>\n",
      "\n",
      "I want to develop advanced tools for personalizing AI interactions.<|eot_id|><|start_header_id|>assistant<|end_header_id|>\n",
      "\n",
      "That sounds like a fascinating goal! Personalizing AI interactions can make a huge difference in how people experience and interact with technology. It can make AI feel more human-like and empathetic.\n",
      "\n",
      "What motivates you to focus on personalization specifically? Is there a particular experience or encounter that made you realize the importance of personalization in AI interactions?<|eot_id|>\n"
     ]
    }
   ],
   "source": [
    "messages.append(\n",
    "    {\n",
    "        \"role\": \"user\",\n",
    "        \"content\": \"I want to develop advanced tools for personalizing AI interactions.\"\n",
    "    }\n",
    ")\n",
    "\n",
    "_ = pipe(messages, kwargs=generate_kwargs)"
   ]
  },
  {
   "cell_type": "code",
   "execution_count": null,
   "id": "8aaa0b15-eec6-4a5c-bdd5-8730a8cc46c7",
   "metadata": {},
   "outputs": [],
   "source": []
  }
 ],
 "metadata": {
  "kernelspec": {
   "display_name": "Python 3 (ipykernel)",
   "language": "python",
   "name": "python3"
  },
  "language_info": {
   "codemirror_mode": {
    "name": "ipython",
    "version": 3
   },
   "file_extension": ".py",
   "mimetype": "text/x-python",
   "name": "python",
   "nbconvert_exporter": "python",
   "pygments_lexer": "ipython3",
   "version": "3.12.3"
  }
 },
 "nbformat": 4,
 "nbformat_minor": 5
}
