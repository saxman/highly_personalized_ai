{
 "cells": [
  {
   "cell_type": "markdown",
   "id": "f48c2e2c-3338-440b-90dc-87f46e69162e",
   "metadata": {},
   "source": [
    "Mistral models"
   ]
  },
  {
   "cell_type": "code",
   "execution_count": 1,
   "id": "1cf566e2-16ec-4c4b-8f09-724b44a84965",
   "metadata": {
    "tags": []
   },
   "outputs": [],
   "source": [
    "from transformers import BitsAndBytesConfig\n",
    "\n",
    "import torch\n",
    "\n",
    "model_name = \"GritLM/GritLM-7B\"\n",
    "# model_name = \"mistralai/Mistral-7B-Instruct-v0.2\"\n",
    "# model_name = \"google/gemma-7b-it\"\n",
    "\n",
    "bnb_config = BitsAndBytesConfig(\n",
    "    load_in_4bit=True,\n",
    "    bnb_4bit_use_double_quant=True,\n",
    "    bnb_4bit_quant_type=\"nf4\",\n",
    "    bnb_4bit_compute_dtype=torch.bfloat16\n",
    ")\n",
    "\n",
    "pad_token_id = 1\n",
    "\n",
    "messages = [\n",
    "    {\n",
    "        \"role\": \"user\",\n",
    "        \"content\": \"You are a friendly chatbot that always answers accurately with short and accurate answers.\",\n",
    "    },\n",
    "    {\n",
    "        \"role\": \"assistant\",\n",
    "        \"content\": \"\"\n",
    "    },\n",
    "    {\n",
    "        \"role\": \"user\",\n",
    "        \"content\": \"What is electromicroscopy?\",\n",
    "    }\n",
    "]"
   ]
  },
  {
   "cell_type": "markdown",
   "id": "4f2f6eb7-7702-44c3-869a-fb63b8a9348b",
   "metadata": {},
   "source": [
    "Llama models"
   ]
  },
  {
   "cell_type": "code",
   "execution_count": 1,
   "id": "af12df31-2cb2-4124-8296-1ca655997f08",
   "metadata": {
    "tags": []
   },
   "outputs": [],
   "source": [
    "from transformers import BitsAndBytesConfig\n",
    "\n",
    "model_name = \"meta-llama/Llama-2-7b-chat-hf\"\n",
    "\n",
    "bnb_config = BitsAndBytesConfig(\n",
    "    load_in_8bit=True,\n",
    ")\n",
    "\n",
    "pad_token_id = 2\n",
    "\n",
    "messages = [\n",
    "    {\n",
    "        \"role\": \"system\",\n",
    "        \"content\": \"You are a friendly chatbot that always answers accurately with short and accurate answers.\",\n",
    "    },\n",
    "    {\n",
    "        \"role\": \"user\",\n",
    "        \"content\": \"What is electromicroscopy?\",\n",
    "    }\n",
    "]"
   ]
  },
  {
   "cell_type": "code",
   "execution_count": 2,
   "id": "b783d1b6-9ca0-47ca-9331-5d51f4c52f1d",
   "metadata": {
    "tags": []
   },
   "outputs": [],
   "source": [
    "model_name = \"TinyLlama/TinyLlama-1.1B-Chat-v1.0\"\n",
    "bnb_config = None"
   ]
  },
  {
   "cell_type": "code",
   "execution_count": 2,
   "id": "bd92a763-e30d-4bae-8a79-9cb0d8a58f3d",
   "metadata": {
    "tags": []
   },
   "outputs": [],
   "source": [
    "model_kwargs = {\n",
    "    \"torch_dtype\": \"auto\",\n",
    "    \"quantization_config\": bnb_config,\n",
    "    \"attn_implementation\": \"flash_attention_2\"\n",
    "}\n",
    "\n",
    "generate_kwargs = {\n",
    "    \"max_new_tokens\": 1024,\n",
    "    \"do_sample\": True,\n",
    "    \"temperature\": 0.7,\n",
    "    \"top_k\": 50,\n",
    "    \"top_p\": 0.95\n",
    "}"
   ]
  },
  {
   "cell_type": "code",
   "execution_count": 3,
   "id": "86e20b5c-3ff7-49ce-9db5-8c4fe13f487c",
   "metadata": {},
   "outputs": [
    {
     "data": {
      "application/vnd.jupyter.widget-view+json": {
       "model_id": "424f61e98d074f39bad92607ede0522e",
       "version_major": 2,
       "version_minor": 0
      },
      "text/plain": [
       "Loading checkpoint shards:   0%|          | 0/3 [00:00<?, ?it/s]"
      ]
     },
     "metadata": {},
     "output_type": "display_data"
    }
   ],
   "source": [
    "from transformers import AutoTokenizer\n",
    "from transformers import TextStreamer\n",
    "from transformers import pipeline\n",
    "\n",
    "import torch\n",
    "\n",
    "tokenizer = AutoTokenizer.from_pretrained(model_name)\n",
    "streamer = TextStreamer(tokenizer)\n",
    "\n",
    "pipe = pipeline(\n",
    "    \"conversational\",\n",
    "    model=model_name,\n",
    "    model_kwargs=model_kwargs,\n",
    "    device_map=\"auto\",\n",
    "    tokenizer=tokenizer,\n",
    "    streamer=streamer\n",
    ")"
   ]
  },
  {
   "cell_type": "code",
   "execution_count": 4,
   "id": "e2d92f5e-942f-4d9f-a0c8-75c5883ee82a",
   "metadata": {},
   "outputs": [
    {
     "name": "stdout",
     "output_type": "stream",
     "text": [
      "Model size : 4340 MB\n",
      "Model is quantized : True\n",
      "Model quantization method : bitsandbytes\n",
      "Model 4-bit quantized : True\n",
      "Model on GPU : True\n"
     ]
    }
   ],
   "source": [
    "model = pipe.model\n",
    "\n",
    "print(f'Model size : {model.get_memory_footprint() // 1024 ** 2} MB')\n",
    "\n",
    "try:\n",
    "    print(f'Model is quantized : {model.is_quantized}')\n",
    "    print(f'Model quantization method : {model.quantization_method}')\n",
    "except:\n",
    "    pass\n",
    "    \n",
    "try:\n",
    "    print(f'Model 8-bit quantized : {model.is_loaded_in_8bit}')\n",
    "except:\n",
    "    pass\n",
    "\n",
    "try:\n",
    "    print(f'Model 4-bit quantized : {model.is_loaded_in_4bit}')\n",
    "except:\n",
    "    pass\n",
    "\n",
    "print(f'Model on GPU : {next(model.parameters()).is_cuda}')"
   ]
  },
  {
   "cell_type": "code",
   "execution_count": 5,
   "id": "210b530c-f7bb-4468-abf4-45ed37c0410f",
   "metadata": {},
   "outputs": [
    {
     "name": "stdout",
     "output_type": "stream",
     "text": [
      "<s> <|user|>\n",
      "You are a friendly chatbot that always answers accurately with short and accurate answers.\n",
      "<|assistant|>\n",
      "</s> \n",
      "<|user|>\n",
      "What is electromicroscopy?\n",
      "<|assistant|>\n",
      "Electromicroscopy is a type of microscopy that uses electrical signals to create images of samples. It is used to study the electrical properties of materials and can provide information about the distribution of charges within a sample. There are several types of electromicroscopy, including scanning probe microscopy (SPM), scanning electron microscopy (SEM), and transmission electron microscopy (TEM).</s>\n"
     ]
    }
   ],
   "source": [
    "_ = pipe(messages, kwargs=generate_kwargs, pad_token_id=pad_token_id)"
   ]
  },
  {
   "cell_type": "code",
   "execution_count": null,
   "id": "e7909c87-9ab9-405f-afce-d599071d71a4",
   "metadata": {},
   "outputs": [],
   "source": []
  }
 ],
 "metadata": {
  "kernelspec": {
   "display_name": "Python 3 (ipykernel)",
   "language": "python",
   "name": "python3"
  },
  "language_info": {
   "codemirror_mode": {
    "name": "ipython",
    "version": 3
   },
   "file_extension": ".py",
   "mimetype": "text/x-python",
   "name": "python",
   "nbconvert_exporter": "python",
   "pygments_lexer": "ipython3",
   "version": "3.12.3"
  }
 },
 "nbformat": 4,
 "nbformat_minor": 5
}
