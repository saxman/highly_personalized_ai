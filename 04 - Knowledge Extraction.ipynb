{
 "cells": [
  {
   "cell_type": "code",
   "execution_count": null,
   "id": "677e2657-41e1-4542-a804-150d7c8fa237",
   "metadata": {},
   "outputs": [],
   "source": [
    "!pip install --quiet --upgrade torch"
   ]
  },
  {
   "cell_type": "code",
   "execution_count": null,
   "id": "2e8287d5-bbb5-4ae4-bf7a-19dd2f7e40a2",
   "metadata": {},
   "outputs": [],
   "source": [
    "!pip install --quiet --upgrade transformers"
   ]
  },
  {
   "cell_type": "code",
   "execution_count": null,
   "id": "9987e568-9e72-46b1-9763-658dd859f013",
   "metadata": {},
   "outputs": [],
   "source": [
    "!pip install --quiet --upgrade bitsandbytes accelerate"
   ]
  },
  {
   "cell_type": "code",
   "execution_count": null,
   "id": "8bbb39e2-0419-48dc-8e19-43246698b1e5",
   "metadata": {},
   "outputs": [],
   "source": [
    "!pip install --quiet --upgrade sentencepiece"
   ]
  },
  {
   "cell_type": "code",
   "execution_count": null,
   "id": "63a3c732-102c-40e5-8640-91cfaf09ea99",
   "metadata": {},
   "outputs": [],
   "source": [
    "!pip install --quiet --upgrade protobuf"
   ]
  },
  {
   "cell_type": "code",
   "execution_count": null,
   "id": "4a187278-6cc8-4020-98e4-35f2ad0122f9",
   "metadata": {
    "tags": []
   },
   "outputs": [],
   "source": [
    "## Mistral-style models\n",
    "# model_id = \"GritLM/GritLM-7B\"\n",
    "# model_id = \"mistralai/Mistral-7B-Instruct-v0.3\"\n",
    "# model_id = \"google/gemma-1.1-7b-it\"\n",
    "\n",
    "## Llama-style models\n",
    "# model_id = \"meta-llama/Meta-Llama-3-8B-Instruct\"\n",
    "# model_id = \"nvidia/Llama3-ChatQA-1.5-8B\"\n",
    "# model_id = \"meta-llama/Meta-Llama-3-70B-Instruct\"\n",
    "model_id = \"models/meta-llama__Meta-Llama-3-70B-Instruct\"\n",
    "\n",
    "model_kwargs = {\n",
    "    \"low_cpu_mem_usage\": True,\n",
    "    \"device_map\": \"sequential\"\n",
    "}\n",
    "\n",
    "generate_kwargs = {\n",
    "    \"max_new_tokens\": 1024,\n",
    "    \"do_sample\": True,\n",
    "    \"temperature\": 0.7,\n",
    "    \"top_k\": 50,\n",
    "    \"top_p\": 0.95\n",
    "}"
   ]
  },
  {
   "cell_type": "code",
   "execution_count": null,
   "id": "86e20b5c-3ff7-49ce-9db5-8c4fe13f487c",
   "metadata": {},
   "outputs": [],
   "source": [
    "import transformers\n",
    "from transformers import AutoTokenizer\n",
    "from transformers import AutoModelForCausalLM\n",
    "from transformers import TextStreamer\n",
    "\n",
    "tokenizer = AutoTokenizer.from_pretrained(model_id)\n",
    "streamer = TextStreamer(tokenizer)\n",
    "\n",
    "pipe = transformers.pipeline(\n",
    "    \"text-generation\",\n",
    "    model=model_id,\n",
    "    model_kwargs=model_kwargs,\n",
    "    streamer=streamer\n",
    ")"
   ]
  },
  {
   "cell_type": "code",
   "execution_count": null,
   "id": "e28b0149-befe-4567-86a2-719d35c9ee82",
   "metadata": {
    "tags": []
   },
   "outputs": [],
   "source": [
    "import utils\n",
    "utils.print_model_info(pipe.model)"
   ]
  },
  {
   "cell_type": "code",
   "execution_count": null,
   "id": "6b64e306-c01f-4509-ac81-a8cbd7bb4f70",
   "metadata": {},
   "outputs": [],
   "source": [
    "conversation = [\n",
    "    {\"role\": \"assistant\", \"content\": \"what is your name?\"},\n",
    "    {\"role\": \"user\", \"content\": \"my name is Jack\"},\n",
    "    {\"role\": \"assistant\", \"content\": \"how are you today, Jack?\"},\n",
    "    {\"role\": \"user\", \"content\": \"I'm great, thanks\" },\n",
    "    {\"role\": \"assistant\", \"content\": \"are you a student or employed?\"},\n",
    "    {\"role\": \"user\", \"content\": \"I am a farmer\"},\n",
    "    {\"role\": \"assistant\", \"content\": \"are you seeing someone or are you married?\"},\n",
    "    {\"role\": \"user\", \"content\": \"yes, my wife's name is Jill\"},\n",
    "    {\"role\": \"assistant\", \"content\": \"how long have you been married?\"},\n",
    "    {\"role\": \"user\", \"content\": \"15 years\"},\n",
    "    {\"role\": \"assistant\", \"content\": \"do you have any children?\"},\n",
    "    {\"role\": \"user\", \"content\": \"yes, two\"},\n",
    "    {\"role\": \"assistant\", \"content\": \"what are their names?\"},\n",
    "    {\"role\": \"user\", \"content\": \"Jack and Jill\"},\n",
    "    {\"role\": \"assistant\", \"content\": \"how old are they?\"},\n",
    "    {\"role\": \"user\", \"content\": \"10 and 12, respectively\"},\n",
    "]"
   ]
  },
  {
   "cell_type": "code",
   "execution_count": null,
   "id": "1cba27a4-462c-4840-9b3e-a40886f6fb69",
   "metadata": {},
   "outputs": [],
   "source": [
    "prompt = \"\"\"\n",
    "Create a paragraph summary of facts about the user from the following coversation:\n",
    "\"\"\"\n",
    "\n",
    "for message in conversation:\n",
    "    prompt += f\"{message['role']}: {message['content']}\\n\"\n",
    "\n",
    "messages = [\n",
    "    {\"role\": \"user\", \"content\": prompt}\n",
    "]\n",
    "\n",
    "_ = pipe(\n",
    "    messages,\n",
    "    kwargs = generate_kwargs\n",
    ")"
   ]
  },
  {
   "cell_type": "code",
   "execution_count": null,
   "id": "a95137c8-447f-4e95-966c-8a4a0a196ee0",
   "metadata": {
    "tags": []
   },
   "outputs": [],
   "source": [
    "prompt = \"\"\"\n",
    "You are an AI assistant that identifies facts about the user from chat conversations.\n",
    "You list facts in a JSON array, with each fact in a dictionary with keys fact and confidence_score.\n",
    "The confidence score must be accurate.\n",
    "List all discrete facts about the user from the following chat conversation:\n",
    "\"\"\"\n",
    "\n",
    "for message in conversation:\n",
    "    prompt += f\"{message['role']}: {message['content']}\\n\"\n",
    "\n",
    "messages = [\n",
    "    {\"role\": \"user\", \"content\": prompt}\n",
    "]\n",
    "\n",
    "_ = pipe(\n",
    "    messages,\n",
    "    kwargs = generate_kwargs\n",
    ")"
   ]
  },
  {
   "cell_type": "code",
   "execution_count": null,
   "id": "785a9fff-9f74-4243-bf63-de7526132f16",
   "metadata": {},
   "outputs": [],
   "source": [
    "prompt = \"\"\"\n",
    "You are an AI assistant that identifies facts about the user from chat conversations.\n",
    "You list facts in a JSON array, with each fact in a dictionary with keys subject, predicate, object, and confidence_score.\n",
    "The confidence score must be accurate.\n",
    "List all discrete facts about the user from the following chat conversation:\n",
    "\"\"\"\n",
    "\n",
    "for message in conversation:\n",
    "    prompt += f\"{message['role']}: {message['content']}\\n\"\n",
    "\n",
    "messages = [\n",
    "    {\"role\": \"user\", \"content\": prompt}\n",
    "]\n",
    "\n",
    "_ = pipe(\n",
    "    messages,\n",
    "    kwargs = generate_kwargs\n",
    ")"
   ]
  }
 ],
 "metadata": {
  "kernelspec": {
   "display_name": "Python 3 (ipykernel)",
   "language": "python",
   "name": "python3"
  },
  "language_info": {
   "codemirror_mode": {
    "name": "ipython",
    "version": 3
   },
   "file_extension": ".py",
   "mimetype": "text/x-python",
   "name": "python",
   "nbconvert_exporter": "python",
   "pygments_lexer": "ipython3",
   "version": "3.12.3"
  }
 },
 "nbformat": 4,
 "nbformat_minor": 5
}
