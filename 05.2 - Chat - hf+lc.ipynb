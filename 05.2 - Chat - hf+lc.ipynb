{
 "cells": [
  {
   "cell_type": "code",
   "execution_count": null,
   "id": "1cf566e2-16ec-4c4b-8f09-724b44a84965",
   "metadata": {
    "tags": []
   },
   "outputs": [],
   "source": [
    "model_name = \"mistralai/Mistral-7B-Instruct-v0.2\""
   ]
  },
  {
   "cell_type": "code",
   "execution_count": null,
   "id": "df1d8c88-c898-4933-9651-9d815ca620b6",
   "metadata": {
    "tags": []
   },
   "outputs": [],
   "source": [
    "from transformers import BitsAndBytesConfig\n",
    "\n",
    "import torch\n",
    "\n",
    "from langchain_community.llms.huggingface_pipeline import HuggingFacePipeline\n",
    "\n",
    "bnb_config = BitsAndBytesConfig(\n",
    "    load_in_4bit=True,\n",
    "    bnb_4bit_use_double_quant=True,\n",
    "    bnb_4bit_quant_type=\"nf4\",\n",
    "    bnb_4bit_compute_dtype=torch.bfloat16\n",
    ")\n",
    "\n",
    "hf_pipe = HuggingFacePipeline.from_model_id(\n",
    "    model_id=model_name,\n",
    "    task=\"text-generation\",\n",
    "    device_map=\"auto\",\n",
    "    device=None,\n",
    "    pipeline_kwargs={\n",
    "        \"max_new_tokens\": 1024,\n",
    "    },\n",
    "    model_kwargs={\n",
    "        \"torch_dtype\": \"auto\",\n",
    "        \"quantization_config\": bnb_config,\n",
    "        \"attn_implementation\": \"flash_attention_2\",\n",
    "        \"low_cpu_mem_usage\": True\n",
    "    }\n",
    ")"
   ]
  },
  {
   "cell_type": "code",
   "execution_count": null,
   "id": "d3cb965a-6c1c-4458-9c57-a1eb5f0e04fe",
   "metadata": {
    "tags": []
   },
   "outputs": [],
   "source": [
    "from langchain.prompts import PromptTemplate\n",
    "\n",
    "template = \"\"\"Question: {question}\n",
    "\n",
    "Answer: Let's think step by step.\"\"\"\n",
    "\n",
    "prompt = PromptTemplate.from_template(template)\n",
    "chain = prompt | hf_pipe\n",
    "question = \"What is electroencephalography?\"\n",
    "\n",
    "for chunk in chain.stream(\"Write me a song about sparkling water.\"):\n",
    "    print(chunk, end=\"\", flush=True)\n",
    "\n",
    "# print(chain.invoke({\"question\": question}))"
   ]
  },
  {
   "cell_type": "code",
   "execution_count": null,
   "id": "86e20b5c-3ff7-49ce-9db5-8c4fe13f487c",
   "metadata": {},
   "outputs": [],
   "source": [
    "from transformers import AutoTokenizer\n",
    "from transformers import TextStreamer\n",
    "from transformers import pipeline\n",
    "\n",
    "import torch\n",
    "\n",
    "tokenizer = AutoTokenizer.from_pretrained(model_name)\n",
    "streamer = TextStreamer(tokenizer)\n",
    "\n",
    "pipe = pipeline(\n",
    "    \"text-generation\",\n",
    "    model=model_name,\n",
    "    model_kwargs=\n",
    "    {\n",
    "        \"load_in_4bit\": True,\n",
    "        \"bnb_4bit_compute_dtype\": torch.float16\n",
    "    },\n",
    "    device_map=\"auto\",\n",
    "    tokenizer=tokenizer,\n",
    "    streamer=streamer\n",
    ")"
   ]
  },
  {
   "cell_type": "code",
   "execution_count": null,
   "id": "e2d92f5e-942f-4d9f-a0c8-75c5883ee82a",
   "metadata": {},
   "outputs": [],
   "source": [
    "print(f'Model size : {pipe.model.get_memory_footprint() // 1024 ** 2} MB')\n",
    "pipe.model.is_loaded_in_4bit"
   ]
  },
  {
   "cell_type": "code",
   "execution_count": null,
   "id": "83bd8206-0e6c-42f5-af59-6a01d400425e",
   "metadata": {
    "tags": []
   },
   "outputs": [],
   "source": [
    "from langchain_community.llms.huggingface_pipeline import HuggingFacePipeline\n",
    "\n",
    "hf = HuggingFacePipeline(pipeline=pipe)"
   ]
  },
  {
   "cell_type": "code",
   "execution_count": null,
   "id": "210b530c-f7bb-4468-abf4-45ed37c0410f",
   "metadata": {},
   "outputs": [],
   "source": [
    "messages = [\n",
    "    {\n",
    "        \"role\": \"user\",\n",
    "        \"content\": \"electroencephalography is\",\n",
    "    }\n",
    "]\n",
    "\n",
    "_ = hf.invoke(messages)"
   ]
  },
  {
   "cell_type": "code",
   "execution_count": null,
   "id": "470270ae-148f-44c6-bdae-f61caf1aa98a",
   "metadata": {
    "tags": []
   },
   "outputs": [],
   "source": [
    "from langchain.prompts import PromptTemplate\n",
    "\n",
    "template = \"\"\"Question: {question}\n",
    "\n",
    "Answer: Let's think step by step.\"\"\"\n",
    "\n",
    "prompt = PromptTemplate.from_template(template)\n",
    "chain = prompt | hf\n",
    "question = \"What is electroencephalography?\"\n",
    "\n",
    "_ = hf.invoke(question)"
   ]
  },
  {
   "cell_type": "code",
   "execution_count": null,
   "id": "a44e9224-3175-49ef-a404-7c0861dff5ef",
   "metadata": {},
   "outputs": [],
   "source": []
  }
 ],
 "metadata": {
  "kernelspec": {
   "display_name": "Python 3 (ipykernel)",
   "language": "python",
   "name": "python3"
  },
  "language_info": {
   "codemirror_mode": {
    "name": "ipython",
    "version": 3
   },
   "file_extension": ".py",
   "mimetype": "text/x-python",
   "name": "python",
   "nbconvert_exporter": "python",
   "pygments_lexer": "ipython3",
   "version": "3.12.3"
  }
 },
 "nbformat": 4,
 "nbformat_minor": 5
}
